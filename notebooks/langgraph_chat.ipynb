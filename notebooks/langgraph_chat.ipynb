{
 "cells": [
  {
   "cell_type": "code",
   "execution_count": 14,
   "id": "93a65fe9",
   "metadata": {},
   "outputs": [],
   "source": [
    "from langchain_core.messages import AnyMessage\n",
    "from typing_extensions import TypedDict, Annotated\n",
    "import operator\n",
    "\n",
    "class MessagesState(TypedDict):\n",
    "    messages: Annotated[list[AnyMessage], operator.add]"
   ]
  },
  {
   "cell_type": "markdown",
   "id": "026d5eee",
   "metadata": {},
   "source": [
    "#### Define tools and model"
   ]
  },
  {
   "cell_type": "code",
   "execution_count": 15,
   "id": "ca50a535",
   "metadata": {},
   "outputs": [
    {
     "name": "stdout",
     "output_type": "stream",
     "text": [
      "c:\\Users\\Hp\\Desktop\\RAG_PROJECT\n"
     ]
    }
   ],
   "source": [
    "import os\n",
    "\n",
    "print(os.getcwd())\n",
    "os.chdir('../')"
   ]
  },
  {
   "cell_type": "code",
   "execution_count": 16,
   "id": "fd5f30d5",
   "metadata": {},
   "outputs": [
    {
     "data": {
      "text/plain": [
       "'c:\\\\Users\\\\Hp\\\\Desktop'"
      ]
     },
     "execution_count": 16,
     "metadata": {},
     "output_type": "execute_result"
    }
   ],
   "source": [
    "os.getcwd()"
   ]
  },
  {
   "cell_type": "code",
   "execution_count": 17,
   "id": "3b5d8c0a",
   "metadata": {},
   "outputs": [],
   "source": [
    "from src.retriever import github_project_retriever\n",
    "from langchain_core.tools import tool\n",
    "from langchain_groq import ChatGroq\n",
    "from dotenv import load_dotenv\n",
    "\n",
    "\n",
    "load_dotenv()\n",
    "\n",
    "llm=ChatGroq(model=\"llama-3.3-70b-versatile\")\n",
    "\n",
    "@tool\n",
    "def github_tool(query: str) -> str:\n",
    "    \"\"\"Searches the GitHub project for relevant information.\"\"\"\n",
    "    return github_project_retriever(query)\n",
    "\n",
    "tools=[github_tool]\n",
    "tools_by_name = {tool.name: tool for tool in tools}\n",
    "llm_with_tools = llm.bind_tools(tools)"
   ]
  },
  {
   "cell_type": "markdown",
   "id": "79c6903d",
   "metadata": {},
   "source": [
    "### Define model node"
   ]
  },
  {
   "cell_type": "code",
   "execution_count": 18,
   "id": "942e02d6",
   "metadata": {},
   "outputs": [],
   "source": [
    "from langchain_core.messages import SystemMessage\n",
    "\n",
    "def llm_call(state: dict):\n",
    "    \"\"\"\n",
    "    LLM call node for the Graph RAG.\n",
    "\n",
    "    The LLM decides whether to respond directly (normal chat)\n",
    "    or to call the `github_project_retriever` tool to fetch \n",
    "    relevant information about my GitHub projects.\n",
    "\n",
    "    State must contain:\n",
    "      - messages: list of conversation messages.\n",
    "      - llm_calls (optional): integer counter of how many times the LLM has been called.\n",
    "\n",
    "    Returns:\n",
    "      dict with updated \"messages\" and incremented \"llm_calls\".\n",
    "    \"\"\"\n",
    "\n",
    "    return {\n",
    "        \"messages\": [\n",
    "            llm_with_tools.invoke(\n",
    "                [\n",
    "                    SystemMessage(\n",
    "                        content=(\n",
    "                            \"You are a helpful assistant. You can answer general questions \"\n",
    "                            \"and also help the user by retrieving information about my GitHub \"\n",
    "                            \"projects using the `github_project_retriever` tool when relevant. \"\n",
    "                            \"Always return answers in clear, well-structured Markdown.\"\n",
    "                        )\n",
    "                    )\n",
    "                ]\n",
    "                + state[\"messages\"]\n",
    "            )\n",
    "        ],\n",
    "        \"llm_calls\": state.get(\"llm_calls\", 0) + 1,\n",
    "    }\n"
   ]
  },
  {
   "cell_type": "markdown",
   "id": "9d171d63",
   "metadata": {},
   "source": [
    "### Define tool node"
   ]
  },
  {
   "cell_type": "code",
   "execution_count": 19,
   "id": "4ab4a086",
   "metadata": {},
   "outputs": [],
   "source": [
    "from langchain_core.messages import ToolMessage\n",
    "\n",
    "def tool_node(state: dict):\n",
    "    \"\"\"Performs the tool call\"\"\"\n",
    "\n",
    "    result = []\n",
    "    for tool_call in state[\"messages\"][-1].tool_calls:\n",
    "        tool = tools_by_name[tool_call[\"name\"]]\n",
    "        observation = tool.invoke(tool_call[\"args\"])\n",
    "        result.append(ToolMessage(content=observation, tool_call_id=tool_call[\"id\"]))\n",
    "    return {\"messages\": result}"
   ]
  },
  {
   "cell_type": "code",
   "execution_count": null,
   "id": "e7dc77a2",
   "metadata": {},
   "outputs": [],
   "source": [
    "\n",
    "from langgraph.graph import StateGraph, START, END\n",
    "from langchain_core.messages import ToolMessage\n",
    "\n",
    "def tool_node(state: dict):\n",
    "    \"\"\"Performs the tool call\"\"\"\n",
    "\n",
    "    result = []\n",
    "    for tool_call in state[\"messages\"][-1].tool_calls:\n",
    "        tool = tools_by_name[tool_call[\"name\"]]\n",
    "        observation = tool.invoke(tool_call[\"args\"])\n",
    "        result.append(ToolMessage(content=observation, tool_call_id=tool_call[\"id\"]))\n",
    "    return {\"messages\": result}\n",
    "\n",
    "def should_continue(state: MessagesState) -> Literal[\"tool_node\", END]:\n",
    "    \"\"\"Decide if we should continue the loop or stop based upon whether the LLM made a tool call\"\"\"\n",
    "\n",
    "    messages = state[\"messages\"]\n",
    "    last_message = messages[-1]\n",
    "    # If the LLM makes a tool call, then perform an action\n",
    "    if last_message.tool_calls:\n",
    "        return \"tool_node\"\n",
    "    # Otherwise, we stop (reply to the user)\n",
    "    return END"
   ]
  },
  {
   "cell_type": "markdown",
   "id": "c6492308",
   "metadata": {},
   "source": [
    "### Build and compile the agent"
   ]
  },
  {
   "cell_type": "code",
   "execution_count": 21,
   "id": "dab426e4",
   "metadata": {},
   "outputs": [
    {
     "data": {
      "image/png": "[encoded data removed]",
      "text/plain": [
       "<IPython.core.display.Image object>"
      ]
     },
     "metadata": {},
     "output_type": "display_data"
    },
    {
     "name": "stderr",
     "output_type": "stream",
     "text": [
      "INFO:httpx:HTTP Request: POST https://api.groq.com/openai/v1/chat/completions \"HTTP/1.1 200 OK\"\n",
      "INFO:RAGPipeline:✓ Connected to Pinecone index: github-index\n",
      "INFO:sentence_transformers.SentenceTransformer:Use pytorch device_name: cpu\n",
      "INFO:sentence_transformers.SentenceTransformer:Load pretrained SentenceTransformer: sentence-transformers/all-MiniLM-L6-v2\n",
      "INFO:RAGPipeline:✓ Loaded embedder: sentence-transformers/all-MiniLM-L6-v2 on cpu\n",
      "INFO:sentence_transformers.cross_encoder.CrossEncoder:Use pytorch device: cpu\n",
      "INFO:RAGPipeline:✓ Loaded reranker: cross-encoder/ms-marco-MiniLM-L-2-v2\n",
      "INFO:RAGPipeline:✓ Generated 3 fusion queries\n",
      "INFO:RAGPipeline:  Query 1: SQL\n",
      "INFO:RAGPipeline:  Query 2: Structured Query Language tutorials and guides\n",
      "INFO:RAGPipeline:  Query 3: Database management using SQL programming and development\n",
      "Batches: 100%|██████████| 1/1 [00:00<00:00,  2.27it/s]\n",
      "Batches: 100%|██████████| 1/1 [00:00<00:00, 12.85it/s]\n",
      "Batches: 100%|██████████| 1/1 [00:00<00:00, 27.51it/s]\n",
      "Batches: 100%|██████████| 1/1 [00:00<00:00,  1.18it/s]\n",
      "INFO:httpx:HTTP Request: POST https://api.groq.com/openai/v1/chat/completions \"HTTP/1.1 200 OK\"\n"
     ]
    },
    {
     "name": "stdout",
     "output_type": "stream",
     "text": [
      "================================\u001b[1m Human Message \u001b[0m=================================\n",
      "\n",
      "Projects where i used SQL\n",
      "==================================\u001b[1m Ai Message \u001b[0m==================================\n",
      "\n",
      "To find projects where you used SQL, I can search your GitHub projects.\n",
      "Tool Calls:\n",
      "  github_tool (04b6906qs)\n",
      " Call ID: 04b6906qs\n",
      "  Args:\n",
      "    query: SQL\n",
      "=================================\u001b[1m Tool Message \u001b[0m=================================\n",
      "\n",
      "| Repo Name | URL | Technologies | Description |\n",
      "| --- | --- | --- | --- |\n",
      "| DATA-ANALYSIS-SQL | [https://github.com/cleavestone/DATA-ANALYSIS-SQL](https://github.com/cleavestone/DATA-ANALYSIS-SQL) | MySQL, PostgreSQL, Python, Faker | SQL practice project with realistic datasets |\n",
      "| Northwind-Sales-Analysis | [https://github.com/cleavestone/Northwind-Sales-Analysis](https://github.com/cleavestone/Northwind-Sales-Analysis) | Power BI, SQL Server, Power Query, DAX | Analyzes Northwind database sales data |\n",
      "| ETL | [https://github.com/cleavestone/ETL](https://github.com/cleavestone/ETL) | Python, Apache Airflow, Docker, MongoDB Atlas | Implements ETL pipeline for weather data |\n",
      "| RAG_from_scratch | [https://github.com/cleavestone/RAG_from_scratch](https://github.com/cleavestone/RAG_from_scratch) | Python, PyPDFLoader, TextLoader, CSVLoader | Builds Retrieval-Augmented Generation system |\n",
      "| Data-Analytics | [https://github.com/cleavestone/Data-Analytics](https://github.com/cleavestone/Data-Analytics) | Unknown | Unknown |\n",
      "\n",
      "The most relevant project for SQL is DATA-ANALYSIS-SQL, a hands-on practice project with realistic datasets. Other projects, like Northwind-Sales-Analysis, also use SQL, but have lower relevance scores.\n",
      "==================================\u001b[1m Ai Message \u001b[0m==================================\n",
      "\n",
      "Here are some projects where SQL was used:\n",
      "* DATA-ANALYSIS-SQL: A SQL practice project with realistic datasets.\n",
      "* Northwind-Sales-Analysis: Analyzes Northwind database sales data.\n",
      "* ETL: Implements ETL pipeline for weather data.\n",
      "* RAG_from_scratch: Builds Retrieval-Augmented Generation system.\n",
      "* Data-Analytics: Unknown project with unknown technologies. \n",
      "\n",
      "Please note that some of these projects may not be directly related to SQL, but they all contain SQL code or use SQL in some way. If you'd like more information about a specific project, feel free to ask.\n"
     ]
    }
   ],
   "source": [
    "# Build workflow\n",
    "agent_builder = StateGraph(MessagesState)\n",
    "\n",
    "# Add nodes\n",
    "agent_builder.add_node(\"llm_call\", llm_call)\n",
    "agent_builder.add_node(\"tool_node\", tool_node)\n",
    "\n",
    "# Add edges to connect nodes\n",
    "agent_builder.add_edge(START, \"llm_call\")\n",
    "agent_builder.add_conditional_edges(\n",
    "    \"llm_call\",\n",
    "    should_continue,\n",
    "    [\"tool_node\", END]\n",
    ")\n",
    "agent_builder.add_edge(\"tool_node\", \"llm_call\")\n",
    "\n",
    "# Compile the agent\n",
    "agent = agent_builder.compile()\n",
    "\n",
    "# Show the agent\n",
    "from IPython.display import Image, display\n",
    "display(Image(agent.get_graph(xray=True).draw_mermaid_png()))\n",
    "\n",
    "# Invoke\n",
    "from langchain_core.messages import HumanMessage\n",
    "messages = [HumanMessage(content=\"Projects where i used SQL\")]\n",
    "messages = agent.invoke({\"messages\": messages})\n",
    "for m in messages[\"messages\"]:\n",
    "    m.pretty_print()"
   ]
  }
 ],
 "metadata": {
  "kernelspec": {
   "display_name": "venv",
   "language": "python",
   "name": "python3"
  },
  "language_info": {
   "codemirror_mode": {
    "name": "ipython",
    "version": 3
   },
   "file_extension": ".py",
   "mimetype": "text/x-python",
   "name": "python",
   "nbconvert_exporter": "python",
   "pygments_lexer": "ipython3",
   "version": "3.11.2"
  }
 },
 "nbformat": 4,
 "nbformat_minor": 5
}
